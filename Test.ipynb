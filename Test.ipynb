{
 "cells": [
  {
   "cell_type": "code",
   "execution_count": 1,
   "metadata": {
    "id": "iXzsjOj0y0dJ"
   },
   "outputs": [],
   "source": [
    "#from google.colab import drive\n",
    "#drive.mount('/content/drive')\n",
    "#%ls\n",
    "#%cd 'drive/MyDrive/Colab Notebooks/DivNet'"
   ]
  },
  {
   "cell_type": "code",
   "execution_count": 2,
   "metadata": {
    "id": "WtL2Ky5Xy6SV"
   },
   "outputs": [
    {
     "name": "stdout",
     "output_type": "stream",
     "text": [
      "1.7.1\n",
      "time: 381 µs (started: 2021-03-03 12:03:21 -05:00)\n"
     ]
    }
   ],
   "source": [
    "import numpy as np\n",
    "import csv\n",
    "import matplotlib.pyplot as plt\n",
    "import helperfunc as hf\n",
    "import torch\n",
    "import trainers as t\n",
    "import Networks as n\n",
    "import pickle\n",
    "import torch.nn as nn\n",
    "#!pip install ipython-autotime\n",
    "%load_ext autotime\n",
    "print(torch.__version__)"
   ]
  },
  {
   "cell_type": "code",
   "execution_count": 3,
   "metadata": {
    "id": "2mgdLYIby-BO"
   },
   "outputs": [
    {
     "name": "stdout",
     "output_type": "stream",
     "text": [
      "Input shape:  (1000000, 24)\n",
      "Output shape:  (1000000, 27)\n",
      "time: 3.31 s (started: 2021-03-03 12:03:25 -05:00)\n"
     ]
    }
   ],
   "source": [
    "##load data\n",
    "In = np.load('data/nn_output_10.npy')\n",
    "out = np.load('data/nn_input_10.npy')\n",
    "N,Dx = np.shape(In)\n",
    "N,Dy =np.shape(out)\n",
    "print('Input shape: ', np.shape(In))\n",
    "print('Output shape: ',np.shape(out))\n",
    "\n",
    "## Normalizing\n",
    "for i in range(Dx):\n",
    "    if np.min(In[:,i])<-200:\n",
    "        new_data = (In[:,i]-np.mean(In[:,i]))/(np.std(In[:,i]))\n",
    "        In[:,i]=new_data\n",
    "        \n",
    "from sklearn.model_selection import train_test_split\n",
    "In, X_test, out, y_test = train_test_split(In, out, test_size=0.3, random_state=42)\n",
    "X_val, X_test, y_val, y_test = train_test_split(X_test, y_test, test_size=0.5, random_state=42)"
   ]
  },
  {
   "cell_type": "code",
   "execution_count": 4,
   "metadata": {
    "id": "Xo2MY8CRzAQx"
   },
   "outputs": [
    {
     "name": "stdout",
     "output_type": "stream",
     "text": [
      "time: 461 µs (started: 2021-03-03 12:03:28 -05:00)\n"
     ]
    }
   ],
   "source": [
    "config_single ={\n",
    "         \"lr\":1e-3,\n",
    "         \"epochs\": 100,\n",
    "         \"batch_size\": 32,\n",
    "         \"iters\": 1000,#int(N/32),\n",
    "         \"input_dim\" : Dx,\n",
    "         \"output_dim\" : Dy,\n",
    "         \"hidden1\" :700,\n",
    "         \"hidden2\" :700,\n",
    "         \"display_interval\":20,\n",
    "         \"print_it\" : True,\n",
    "         \"save\":True\n",
    "    }"
   ]
  },
  {
   "cell_type": "code",
   "execution_count": 5,
   "metadata": {
    "id": "x1I2w63jzA8b"
   },
   "outputs": [
    {
     "name": "stdout",
     "output_type": "stream",
     "text": [
      "time: 125 ms (started: 2021-03-03 12:03:28 -05:00)\n"
     ]
    }
   ],
   "source": [
    "config_section ={\n",
    "        \"init_select\":4,\n",
    "        \"runs\":50,\n",
    "         \"lr\":2e-3,\n",
    "         \"epochs\": 50,\n",
    "         \"batch_size\": 32,\n",
    "         \"iters\": 100,#int(N/32),\n",
    "         \"input_dim\" : Dx,\n",
    "         \"output_dim\" : Dy,\n",
    "         \"hidden1\" :30, #\n",
    "         \"hidden2\" :30,\n",
    "         \"display_interval\":30,\n",
    "         \"print_it\" : True,\n",
    "         \"c\":50,\n",
    "         \"ref_s\": 7,#int(np.ceil(Dx/Dy)),\n",
    "         \"ref_v\":np.var(In),\n",
    "         \"phi_1\":1.0,\n",
    "         \"phi_2\":1e-1,\n",
    "         \"phi_3\":1e-3,\n",
    "         \"beta\":0.1,\n",
    "         \"save\":False,\n",
    "         \"dim\":6#np.argmin(cor) #fixed value to avaoid calculating correlation every time\n",
    "    }"
   ]
  },
  {
   "cell_type": "code",
   "execution_count": 6,
   "metadata": {
    "id": "HzHW0ftIzS0w"
   },
   "outputs": [
    {
     "name": "stdout",
     "output_type": "stream",
     "text": [
      "time: 564 µs (started: 2021-03-03 12:03:29 -05:00)\n"
     ]
    }
   ],
   "source": [
    "config_tiny ={\n",
    "        \"input_dim\":1,\n",
    "        \"output_dim\":1,\n",
    "        \"hidden1\": 3,\n",
    "        \"hidden2\":2,\n",
    "        \"lr\":2e-3,\n",
    "        \"epochs\": 100,\n",
    "        \"batch_size\": 400,\n",
    "        \"iters\": int(N/400),\n",
    "        \"display_interval\":10,\n",
    "        \"print_it\":True,\n",
    "        \"dim\":config_section[\"dim\"]\n",
    "}"
   ]
  },
  {
   "cell_type": "code",
   "execution_count": 7,
   "metadata": {
    "id": "HWU9ilT7zYPr"
   },
   "outputs": [
    {
     "data": {
      "text/plain": [
       "<All keys matched successfully>"
      ]
     },
     "execution_count": 7,
     "metadata": {},
     "output_type": "execute_result"
    },
    {
     "name": "stdout",
     "output_type": "stream",
     "text": [
      "time: 34.6 ms (started: 2021-03-03 12:03:31 -05:00)\n"
     ]
    }
   ],
   "source": [
    "device =torch.device('cpu')\n",
    "PATH=\"30x30model/tiny_dict_model.pt\"\n",
    "\n",
    "NNt = n.tiny_NN(config_tiny).to(device)\n",
    "NNt.load_state_dict(torch.load(PATH, map_location=device))\n",
    "\n",
    "with open('30x30model/params30.pkl','rb') as f:  \n",
    "    SN, bn, on = pickle.load(f)\n",
    "NN={}\n",
    "for i in range(SN):\n",
    "    PATH=\"30x30model/section_dict_model30\"+str(i)+\".pt\"\n",
    "    NN[str(i)]=n.section_NN(config_section)\n",
    "    NN[str(i)].load_state_dict(torch.load(PATH))\n",
    "\n",
    "PATH=\"30x30model/single_dict_model.pt\"\n",
    "\n",
    "NNl = n.Large_NN(config_single)\n",
    "NNl.load_state_dict(torch.load(PATH))"
   ]
  },
  {
   "cell_type": "code",
   "execution_count": 8,
   "metadata": {
    "id": "BoVF5D1kzhpZ"
   },
   "outputs": [
    {
     "name": "stdout",
     "output_type": "stream",
     "text": [
      "time: 1.23 ms (started: 2021-03-03 12:03:36 -05:00)\n"
     ]
    }
   ],
   "source": [
    "def test(NNt,NN,X_test, y_test,SN,dim,on,bn):\n",
    "    criterion = nn.MSELoss()\n",
    "    #NNt.eval()\n",
    "    N,D = np.shape(X_test)\n",
    "    X_test = torch.tensor(X_test, dtype=torch.float,requires_grad=False)#.to(device)\n",
    "    y_test = torch.tensor(y_test, dtype=torch.float)#.to(device) #  tensor\n",
    "    selectors = NNt(torch.reshape(X_test[:,dim],(N,1))).cpu().detach().numpy()\n",
    "    loss = 0 \n",
    "    q = [int(np.round(x)) for x in selectors]\n",
    "    print('calculating loss')\n",
    "\n",
    "    #for i in range(SN):\n",
    "    #  NN[str(i)].eval()\n",
    "    for j in range(N):\n",
    "        ypred=NN[str(q[j])](X_test[j])\n",
    "        loss += criterion(ypred, y_test[j]).item()  \n",
    "\n",
    "    return loss/N"
   ]
  },
  {
   "cell_type": "code",
   "execution_count": 9,
   "metadata": {
    "id": "TiTqzy2czusc"
   },
   "outputs": [
    {
     "name": "stdout",
     "output_type": "stream",
     "text": [
      "time: 779 µs (started: 2021-03-03 12:03:36 -05:00)\n"
     ]
    }
   ],
   "source": [
    "def testl(NNl,X_test, y_test):\n",
    "    criterion = nn.MSELoss()\n",
    "    N,D = np.shape(X_test)\n",
    "    #NNl.to(device)\n",
    "    X_test = torch.tensor(X_test, dtype=torch.float,requires_grad=False)#.to(device)\n",
    "    y_test = torch.tensor(y_test, dtype=torch.float)#.to(device) #  tensor\n",
    "    loss = 0 \n",
    "    print('calculating loss')\n",
    "    NNl.eval()\n",
    "    ypred=NNl(X_test)\n",
    "    loss += criterion(ypred, y_test).item()\n",
    "\n",
    "    return loss"
   ]
  }
 ],
 "metadata": {
  "colab": {
   "collapsed_sections": [],
   "name": "Test.ipynb",
   "provenance": []
  },
  "kernelspec": {
   "display_name": "Python 3",
   "language": "python",
   "name": "python3"
  },
  "language_info": {
   "codemirror_mode": {
    "name": "ipython",
    "version": 3
   },
   "file_extension": ".py",
   "mimetype": "text/x-python",
   "name": "python",
   "nbconvert_exporter": "python",
   "pygments_lexer": "ipython3",
   "version": "3.7.1"
  }
 },
 "nbformat": 4,
 "nbformat_minor": 1
}
