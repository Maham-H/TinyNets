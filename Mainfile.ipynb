{
 "cells": [
  {
   "cell_type": "code",
   "execution_count": 1,
   "id": "equipped-minutes",
   "metadata": {},
   "outputs": [
    {
     "name": "stdout",
     "output_type": "stream",
     "text": [
      "time: 245 µs (started: 2021-02-27 19:43:13 -05:00)\n"
     ]
    }
   ],
   "source": [
    "import numpy as np\n",
    "import csv\n",
    "import matplotlib.pyplot as plt\n",
    "import helperfunc as hf\n",
    "\n",
    "import trainers as t\n",
    "%load_ext autotime"
   ]
  },
  {
   "cell_type": "code",
   "execution_count": 24,
   "id": "indie-accuracy",
   "metadata": {},
   "outputs": [
    {
     "name": "stdout",
     "output_type": "stream",
     "text": [
      "Input shape:  (1000000, 24)\n",
      "Output shape:  (1000000, 27)\n",
      "time: 513 ms (started: 2021-02-27 20:11:55 -05:00)\n"
     ]
    }
   ],
   "source": [
    "##load data\n",
    "In = np.load('data/nn_output_10.npy')\n",
    "out = np.load('data/nn_input_10.npy')\n",
    "N,Dx = np.shape(In)\n",
    "N,Dy =np.shape(out)\n",
    "\n",
    "print('Input shape: ', np.shape(In))\n",
    "print('Output shape: ',np.shape(out))\n",
    "\n",
    "## Normalizing\n",
    "for i in range(Dx):\n",
    "    if np.min(In[:,i])<-200:\n",
    "        new_data = (In[:,i]-np.mean(In[:,i]))/(np.std(In[:,i]))\n",
    "        In[:,i]=new_data"
   ]
  },
  {
   "cell_type": "code",
   "execution_count": 25,
   "id": "attached-budget",
   "metadata": {},
   "outputs": [
    {
     "name": "stdout",
     "output_type": "stream",
     "text": [
      "time: 313 ms (started: 2021-02-27 20:11:55 -05:00)\n"
     ]
    }
   ],
   "source": [
    "from sklearn.model_selection import train_test_split\n",
    "In, X_test, out, y_test = train_test_split(In, out, test_size=0.33, random_state=42)"
   ]
  },
  {
   "cell_type": "code",
   "execution_count": 3,
   "id": "indoor-naples",
   "metadata": {},
   "outputs": [
    {
     "name": "stdout",
     "output_type": "stream",
     "text": [
      "starting training\n",
      "iter :  0 \t train loss :1.393\n",
      "Single Network Loss:  0.09582410007715225\n",
      "time: 3.37 s (started: 2021-02-27 19:43:14 -05:00)\n"
     ]
    }
   ],
   "source": [
    "config_single ={\n",
    "         \"lr\":1e-3,\n",
    "         \"epochs\": 10,\n",
    "         \"batch_size\": 32,\n",
    "         \"iters\": 50,#int(N/32),\n",
    "         \"input_dim\" : Dx,\n",
    "         \"output_dim\" : Dy,\n",
    "         \"hidden1\" :300,\n",
    "         \"hidden2\" :300,\n",
    "         \"display_interval\":30,\n",
    "         \"print_it\" : True,\n",
    "    }\n",
    "NNl, critl,mselosst=t.trainsingle(config_single,In,out)\n",
    "\n",
    "print('Single Network Loss: ',mselosst)"
   ]
  },
  {
   "cell_type": "code",
   "execution_count": 4,
   "id": "resident-boards",
   "metadata": {},
   "outputs": [
    {
     "name": "stdout",
     "output_type": "stream",
     "text": [
      "time: 90 ms (started: 2021-02-27 19:43:17 -05:00)\n"
     ]
    }
   ],
   "source": [
    "#cor = hf.corr(In,out,Dx,Dy)\n",
    "#print(np.argmin(cor))\n",
    "config_section ={\n",
    "        \"init_select\":7,\n",
    "        \"runs\":1,\n",
    "         \"lr\":1e-3,\n",
    "         \"epochs\": 100,\n",
    "         \"batch_size\": 32,\n",
    "         \"iters\": 50,#int(N/32),\n",
    "         \"input_dim\" : Dx,\n",
    "         \"output_dim\" : Dy,\n",
    "         \"hidden1\" :100,\n",
    "         \"hidden2\" :100,\n",
    "         \"display_interval\":30,\n",
    "         \"print_it\" : True,\n",
    "         \"c\":50,\n",
    "         \"ref_s\": 7,#int(np.ceil(Dx/Dy)),\n",
    "         \"ref_v\":np.var(In),\n",
    "         \"phi_1\":1.0,\n",
    "         \"phi_2\":1e-3,\n",
    "         \"phi_3\":1e-6,\n",
    "         \"beta\":0.5,\n",
    "         \"dim\":0#np.argmin(cor)\n",
    "    }"
   ]
  },
  {
   "cell_type": "code",
   "execution_count": 5,
   "id": "reasonable-thirty",
   "metadata": {},
   "outputs": [
    {
     "name": "stdout",
     "output_type": "stream",
     "text": [
      "sorting data for section:  0\n"
     ]
    },
    {
     "name": "stderr",
     "output_type": "stream",
     "text": [
      "/home/labstation/Downloads/DivNet/helperfunc.py:6: RuntimeWarning: overflow encountered in exp\n",
      "  return 1/(1+ np.exp(slope*(data-(offset+band))))\n"
     ]
    },
    {
     "name": "stdout",
     "output_type": "stream",
     "text": [
      "starting training for section:  0\n",
      "iter :  0 \t train loss :5.925\n",
      "iter :  30 \t train loss :0.017\n",
      "iter :  60 \t train loss :0.013\n",
      "iter :  90 \t train loss :0.009\n",
      "data points for section:0 are:  1945\n",
      "sorting data for section:  1\n",
      "starting training for section:  1\n",
      "iter :  0 \t train loss :3.618\n",
      "iter :  30 \t train loss :0.015\n",
      "iter :  60 \t train loss :0.016\n",
      "iter :  90 \t train loss :0.008\n",
      "data points for section:1 are:  4923\n",
      "sorting data for section:  2\n",
      "starting training for section:  2\n",
      "iter :  0 \t train loss :1.348\n",
      "iter :  30 \t train loss :0.013\n",
      "iter :  60 \t train loss :0.013\n",
      "iter :  90 \t train loss :0.008\n",
      "data points for section:2 are:  33457\n",
      "sorting data for section:  3\n",
      "starting training for section:  3\n",
      "iter :  0 \t train loss :0.891\n",
      "iter :  30 \t train loss :0.029\n",
      "iter :  60 \t train loss :0.022\n",
      "iter :  90 \t train loss :0.008\n",
      "data points for section:3 are:  941628\n",
      "sorting data for section:  4\n",
      "starting training for section:  4\n",
      "iter :  0 \t train loss :3.152\n",
      "iter :  30 \t train loss :0.014\n",
      "iter :  60 \t train loss :0.010\n",
      "iter :  90 \t train loss :0.008\n",
      "data points for section:4 are:  15308\n",
      "sorting data for section:  5\n"
     ]
    },
    {
     "name": "stderr",
     "output_type": "stream",
     "text": [
      "/home/labstation/Downloads/DivNet/helperfunc.py:9: RuntimeWarning: overflow encountered in exp\n",
      "  return 1/(1+ np.exp(slope*(-data+offset)))\n"
     ]
    },
    {
     "name": "stdout",
     "output_type": "stream",
     "text": [
      "starting training for section:  5\n",
      "iter :  0 \t train loss :8.468\n",
      "iter :  30 \t train loss :0.020\n",
      "iter :  60 \t train loss :0.013\n",
      "iter :  90 \t train loss :0.010\n",
      "data points for section:5 are:  2200\n",
      "sorting data for section:  6\n",
      "starting training for section:  6\n",
      "iter :  0 \t train loss :9.026\n",
      "iter :  30 \t train loss :0.019\n",
      "iter :  60 \t train loss :0.018\n",
      "iter :  90 \t train loss :0.012\n",
      "data points for section:6 are:  538\n",
      "Sn:  7  bnew:  [3.09782326 3.12898569 3.15464971 3.15558809 3.18860636 3.22798499\n",
      " 3.2022405  0.21367063] bold:  [3.19564989 3.19564989 3.19564989 3.19564989 3.19564989 3.19564989\n",
      " 3.19564989] \n",
      " \t LOSS2:  0.015269901337368148 \n",
      " mse: 0.0015807441834892553 varloss: 620.5507346851158 sloss: 0.0\n",
      "time: 2min 4s (started: 2021-02-27 19:43:17 -05:00)\n"
     ]
    }
   ],
   "source": [
    "SN = config_section[\"init_select\"]\n",
    "iters = config_section[\"runs\"]\n",
    "dim = config_section[\"dim\"]\n",
    "\n",
    "l=np.zeros((iters,4))\n",
    "\n",
    "sns=np.zeros(iters)\n",
    "on,bn = hf.init_s(SN,dim,In)\n",
    "dmse = np.zeros(iters)\n",
    "ds = np.zeros(iters)\n",
    "dv = np.zeros(iters)\n",
    "\n",
    "mse_best=10000\n",
    "best_config={}\n",
    "\n",
    "for i in range(iters):\n",
    "    NN, crit,all_in,all_out,lossind = t.trainsect(config_section, In, out,SN,on,bn)\n",
    "\n",
    "    l[i,:]=hf.loss_1(all_in,all_out,SN,bn,on,config_section,NN,lossind,mselosst)\n",
    "    \n",
    "    bold,bnew,dmse[i],dv[i],ds[i] =hf.update_b(In,all_in,all_out,bn,on,SN,NN,config_section,lossind,mselosst,thresh=0.2)\n",
    "    \n",
    "    SN1,bn,on =hf.gen_s_b_o(bold,bnew,on,config_section,In)\n",
    "    if mse_best >=np.mean(lossind):\n",
    "        mse_best=np.mean(lossind)\n",
    "        best_config['NN']=NN\n",
    "        best_config['o']=on\n",
    "        best_config['b']=bn\n",
    "        best_config['sn']=SN\n",
    "        best_config['crit']=crit\n",
    "        best_config['all_in']=all_in\n",
    "        best_config['all_out']=all_out\n",
    "    print('Sn: ',SN,' bnew: ',bn, 'bold: ',bold, '\\n \\t LOSS2: ',np.mean(lossind),'\\n mse:',l[i,1],'varloss:',l[i,2],'sloss:',l[i,3])\n",
    "    sns[i]=SN\n",
    "    SN=SN1\n",
    "    "
   ]
  },
  {
   "cell_type": "code",
   "execution_count": 6,
   "id": "italian-timothy",
   "metadata": {},
   "outputs": [
    {
     "name": "stdout",
     "output_type": "stream",
     "text": [
      "dmse [-0.68523112]\n",
      "dv [-0.01318053]\n",
      "ds [-0.]\n",
      "time: 1.04 ms (started: 2021-02-27 19:45:22 -05:00)\n"
     ]
    }
   ],
   "source": [
    "print('dmse',dmse)\n",
    "print('dv',dv)\n",
    "print('ds',ds)"
   ]
  },
  {
   "cell_type": "code",
   "execution_count": 9,
   "id": "theoretical-farming",
   "metadata": {},
   "outputs": [
    {
     "data": {
      "image/png": "[encoded data removed]",
      "text/plain": [
       "<Figure size 432x288 with 1 Axes>"
      ]
     },
     "metadata": {
      "needs_background": "light"
     },
     "output_type": "display_data"
    },
    {
     "name": "stdout",
     "output_type": "stream",
     "text": [
      "time: 148 ms (started: 2021-02-27 19:46:33 -05:00)\n"
     ]
    }
   ],
   "source": [
    "#### saving best model and plotting progress\n",
    "\n",
    "plt.plot(l[:,0],'b-x')\n",
    "plt.plot(l[:,1],'g-x')\n",
    "plt.plot(l[:,2],'r-x')\n",
    "plt.plot(l[:,3],'y-x')\n",
    "plt.legend(['l1', 'mse', 'var_loss','sloss'])\n",
    "\n",
    "\n",
    "NN=best_config['NN']\n",
    "on=best_config['o']\n",
    "bn=best_config['b']\n",
    "SN=best_config['sn']\n",
    "crit=best_config['crit']\n",
    "all_in=best_config['all_in']\n",
    "all_out=best_config['all_out']"
   ]
  },
  {
   "cell_type": "code",
   "execution_count": 10,
   "id": "governmental-present",
   "metadata": {},
   "outputs": [
    {
     "name": "stdout",
     "output_type": "stream",
     "text": [
      "starting training\n",
      "iter :  0 \t train loss :0.902\n",
      "iter :  10 \t train loss :0.019\n",
      "iter :  20 \t train loss :0.020\n",
      "iter :  30 \t train loss :0.017\n",
      "iter :  40 \t train loss :0.015\n",
      "iter :  50 \t train loss :0.021\n",
      "iter :  60 \t train loss :0.018\n",
      "iter :  70 \t train loss :0.016\n",
      "iter :  80 \t train loss :0.020\n",
      "iter :  90 \t train loss :0.017\n",
      "iter :  100 \t train loss :0.020\n",
      "iter :  110 \t train loss :0.019\n",
      "iter :  120 \t train loss :0.021\n",
      "iter :  130 \t train loss :0.021\n",
      "iter :  140 \t train loss :0.078\n",
      "iter :  150 \t train loss :0.020\n",
      "iter :  160 \t train loss :0.021\n",
      "iter :  170 \t train loss :0.016\n",
      "iter :  180 \t train loss :0.021\n",
      "iter :  190 \t train loss :0.017\n",
      "iter :  200 \t train loss :0.086\n",
      "iter :  210 \t train loss :0.020\n",
      "iter :  220 \t train loss :0.017\n",
      "iter :  230 \t train loss :0.019\n",
      "iter :  240 \t train loss :0.020\n",
      "iter :  250 \t train loss :0.019\n",
      "iter :  260 \t train loss :0.017\n",
      "iter :  270 \t train loss :0.019\n",
      "iter :  280 \t train loss :0.016\n",
      "iter :  290 \t train loss :0.022\n",
      "iter :  300 \t train loss :0.016\n",
      "iter :  310 \t train loss :0.016\n",
      "iter :  320 \t train loss :0.018\n",
      "iter :  330 \t train loss :0.018\n",
      "iter :  340 \t train loss :0.023\n",
      "iter :  350 \t train loss :0.020\n",
      "iter :  360 \t train loss :0.019\n",
      "iter :  370 \t train loss :0.017\n",
      "iter :  380 \t train loss :0.019\n",
      "iter :  390 \t train loss :0.015\n",
      "iter :  400 \t train loss :0.017\n",
      "iter :  410 \t train loss :0.016\n",
      "iter :  420 \t train loss :0.016\n",
      "iter :  430 \t train loss :0.017\n",
      "iter :  440 \t train loss :0.019\n",
      "iter :  450 \t train loss :0.017\n",
      "iter :  460 \t train loss :0.016\n",
      "iter :  470 \t train loss :0.019\n",
      "iter :  480 \t train loss :0.019\n",
      "iter :  490 \t train loss :0.019\n"
     ]
    },
    {
     "ename": "NameError",
     "evalue": "name 'torch' is not defined",
     "output_type": "error",
     "traceback": [
      "\u001b[0;31m---------------------------------------------------------------------------\u001b[0m",
      "\u001b[0;31mNameError\u001b[0m                                 Traceback (most recent call last)",
      "\u001b[0;32m<ipython-input-10-45635f4f80d5>\u001b[0m in \u001b[0;36m<module>\u001b[0;34m\u001b[0m\n\u001b[1;32m     17\u001b[0m \u001b[0;34m\u001b[0m\u001b[0m\n\u001b[1;32m     18\u001b[0m \u001b[0mNNt\u001b[0m\u001b[0;34m.\u001b[0m\u001b[0meval\u001b[0m\u001b[0;34m(\u001b[0m\u001b[0;34m)\u001b[0m\u001b[0;34m\u001b[0m\u001b[0;34m\u001b[0m\u001b[0m\n\u001b[0;32m---> 19\u001b[0;31m \u001b[0mX_train\u001b[0m \u001b[0;34m=\u001b[0m \u001b[0mtorch\u001b[0m\u001b[0;34m.\u001b[0m\u001b[0mtensor\u001b[0m\u001b[0;34m(\u001b[0m\u001b[0mdata\u001b[0m\u001b[0;34m,\u001b[0m \u001b[0mdtype\u001b[0m\u001b[0;34m=\u001b[0m\u001b[0mtorch\u001b[0m\u001b[0;34m.\u001b[0m\u001b[0mfloat\u001b[0m\u001b[0;34m)\u001b[0m \u001b[0;31m#  tensor\u001b[0m\u001b[0;34m\u001b[0m\u001b[0;34m\u001b[0m\u001b[0m\n\u001b[0m\u001b[1;32m     20\u001b[0m \u001b[0moutputs\u001b[0m \u001b[0;34m=\u001b[0m \u001b[0mNNt\u001b[0m\u001b[0;34m(\u001b[0m\u001b[0mX_train\u001b[0m\u001b[0;34m)\u001b[0m\u001b[0;34m\u001b[0m\u001b[0;34m\u001b[0m\u001b[0m\n\u001b[1;32m     21\u001b[0m \u001b[0mouts\u001b[0m\u001b[0;34m=\u001b[0m\u001b[0mnp\u001b[0m\u001b[0;34m.\u001b[0m\u001b[0mround\u001b[0m\u001b[0;34m(\u001b[0m\u001b[0moutputs\u001b[0m\u001b[0;34m.\u001b[0m\u001b[0mdetach\u001b[0m\u001b[0;34m(\u001b[0m\u001b[0;34m)\u001b[0m\u001b[0;34m.\u001b[0m\u001b[0mnumpy\u001b[0m\u001b[0;34m(\u001b[0m\u001b[0;34m)\u001b[0m\u001b[0;34m)\u001b[0m\u001b[0;34m\u001b[0m\u001b[0;34m\u001b[0m\u001b[0m\n",
      "\u001b[0;31mNameError\u001b[0m: name 'torch' is not defined"
     ]
    },
    {
     "name": "stdout",
     "output_type": "stream",
     "text": [
      "time: 16min 59s (started: 2021-02-27 19:46:38 -05:00)\n"
     ]
    }
   ],
   "source": [
    "config_tiny ={\n",
    "        \"input_dim\":1,\n",
    "        \"output_dim\":1,\n",
    "        \"hidden1\":2,\n",
    "        \"hidden2\":2,\n",
    "        \"lr\":1e-3,\n",
    "        \"epochs\": 200,\n",
    "        \"batch_size\": 500,\n",
    "        \"iters\": 100,#int(N/500),\n",
    "        \"display_interval\":10,\n",
    "        \"print_it\":True,\n",
    "        \"dim\":config_section[\"dim\"]\n",
    "}\n",
    "dim = config_tiny[\"dim\"]\n",
    "data,labels= hf.generate_rdata(SN,on,bn,In,dim)\n",
    "NNt, criteriont,loss=t.traintiny(config_tiny, data,labels)\n"
   ]
  },
  {
   "cell_type": "code",
   "execution_count": 11,
   "id": "listed-highway",
   "metadata": {},
   "outputs": [
    {
     "name": "stdout",
     "output_type": "stream",
     "text": [
      "Incorrect labels 11900.0\n",
      "time: 35.4 ms (started: 2021-02-27 20:04:29 -05:00)\n"
     ]
    }
   ],
   "source": [
    "import torch\n",
    "NNt.eval()\n",
    "X_train = torch.tensor(data, dtype=torch.float) #  tensor\n",
    "outputs = NNt(X_train)\n",
    "outs=np.round(outputs.detach().numpy())\n",
    "tot=np.abs(outs-labels)\n",
    "tot= np.sum(tot)\n",
    "print('Incorrect labels', tot)"
   ]
  },
  {
   "cell_type": "code",
   "execution_count": 47,
   "id": "decent-robert",
   "metadata": {},
   "outputs": [
    {
     "name": "stdout",
     "output_type": "stream",
     "text": [
      "time: 2.29 ms (started: 2021-02-27 20:34:01 -05:00)\n"
     ]
    }
   ],
   "source": [
    "import torch.nn as nn\n",
    "def test(NNt,NN,X_test, y_test,SN,dim,on,bn):\n",
    "    criterion = nn.MSELoss()\n",
    "    NNt.eval()\n",
    "    N,D = np.shape(X_test)\n",
    "    data =np.reshape(X_test[:,dim],(N,1))\n",
    "    data = torch.tensor(data, dtype=torch.float)\n",
    "    X_test = torch.tensor(X_test, dtype=torch.float,requires_grad=True)\n",
    "    y_test = torch.tensor(y_test, dtype=torch.float) #  tensor\n",
    "    selectors = NNt(data).detach().numpy()\n",
    "    loss = 0 \n",
    "    print('calculating loss')\n",
    "    for i in range(N):\n",
    "        j = int(selectors[i])\n",
    "        NN[str(j)].eval()\n",
    "        ypred=NN[str(j)](X_test[i])\n",
    "        loss += criterion(ypred, y_test[i]).item()\n",
    "        #ypred[i]=NN[str(j)](torch.tensor(X_test[i], dtype=torch.float)).detach().numpy()\n",
    "    #ypred = torch.tensor(ypred, dtype=torch.float) #  tensor\n",
    "    \n",
    "    return loss/N"
   ]
  },
  {
   "cell_type": "code",
   "execution_count": 48,
   "id": "animated-shuttle",
   "metadata": {},
   "outputs": [
    {
     "name": "stdout",
     "output_type": "stream",
     "text": [
      "time: 899 µs (started: 2021-02-27 20:34:01 -05:00)\n"
     ]
    }
   ],
   "source": [
    "Nt,Dt = np.shape(X_test)"
   ]
  },
  {
   "cell_type": "code",
   "execution_count": 49,
   "id": "advance-henry",
   "metadata": {},
   "outputs": [
    {
     "name": "stdout",
     "output_type": "stream",
     "text": [
      "calculating loss\n",
      "test loss = 0.4722428111512004\n",
      "time: 1min 14s (started: 2021-02-27 20:34:02 -05:00)\n"
     ]
    }
   ],
   "source": [
    "dim = config_tiny[\"dim\"]\n",
    "\n",
    "loss = test(NNt,NN,X_test,y_test,SN,dim,on,bn)\n",
    "print('test loss =', loss)"
   ]
  },
  {
   "cell_type": "code",
   "execution_count": 51,
   "id": "yellow-breach",
   "metadata": {},
   "outputs": [
    {
     "name": "stdout",
     "output_type": "stream",
     "text": [
      "time per data point: 0.22424242424242424\n",
      "time: 1.08 ms (started: 2021-02-27 20:35:57 -05:00)\n"
     ]
    }
   ],
   "source": [
    "print('time per data point:',74000/Nt)"
   ]
  },
  {
   "cell_type": "code",
   "execution_count": 52,
   "id": "adult-brain",
   "metadata": {},
   "outputs": [
    {
     "name": "stdout",
     "output_type": "stream",
     "text": [
      "calculating loss\n",
      "train loss = 0.4800921927823426\n",
      "time: 2min 36s (started: 2021-02-27 20:36:04 -05:00)\n"
     ]
    }
   ],
   "source": [
    "dim = config_tiny[\"dim\"]\n",
    "loss = test(NNt,NN,In,out,SN,dim,on,bn)\n",
    "print('train loss =', loss)"
   ]
  },
  {
   "cell_type": "code",
   "execution_count": 53,
   "id": "distinct-depression",
   "metadata": {},
   "outputs": [
    {
     "name": "stdout",
     "output_type": "stream",
     "text": [
      "time per data point: 0.23283582089552238\n",
      "time: 1.28 ms (started: 2021-02-27 20:39:00 -05:00)\n"
     ]
    }
   ],
   "source": [
    "Nt,Dt = np.shape(In)\n",
    "\n",
    "print('time per data point:',156000/Nt)"
   ]
  },
  {
   "cell_type": "code",
   "execution_count": 54,
   "id": "touched-jurisdiction",
   "metadata": {},
   "outputs": [
    {
     "name": "stdout",
     "output_type": "stream",
     "text": [
      "time: 3.41 ms (started: 2021-02-27 20:41:32 -05:00)\n"
     ]
    }
   ],
   "source": [
    "import torch.nn as nn\n",
    "def testl(NNl,X_test, y_test):\n",
    "    criterion = nn.MSELoss()\n",
    "    N,D = np.shape(X_test)\n",
    "\n",
    "    X_test = torch.tensor(X_test, dtype=torch.float,requires_grad=True)\n",
    "    y_test = torch.tensor(y_test, dtype=torch.float) #  tensor\n",
    "    loss = 0 \n",
    "    print('calculating loss')\n",
    "    NNl.eval\n",
    "    for i in range(N):\n",
    "        NNl.eval()\n",
    "        ypred=NNl(X_test[i])\n",
    "        loss += criterion(ypred, y_test[i]).item()\n",
    "        #ypred[i]=NN[str(j)](torch.tensor(X_test[i], dtype=torch.float)).detach().numpy()\n",
    "    #ypred = torch.tensor(ypred, dtype=torch.float) #  tensor\n",
    "    \n",
    "    return loss/N"
   ]
  },
  {
   "cell_type": "code",
   "execution_count": 55,
   "id": "excess-integration",
   "metadata": {},
   "outputs": [
    {
     "name": "stdout",
     "output_type": "stream",
     "text": [
      "calculating loss\n",
      "test loss = 0.09665124761041811\n",
      "time: 1min 19s (started: 2021-02-27 20:41:33 -05:00)\n"
     ]
    }
   ],
   "source": [
    "dim = config_tiny[\"dim\"]\n",
    "\n",
    "loss = testl(NNl,X_test,y_test)\n",
    "print('test loss =', loss)"
   ]
  },
  {
   "cell_type": "code",
   "execution_count": 56,
   "id": "billion-reputation",
   "metadata": {},
   "outputs": [
    {
     "name": "stdout",
     "output_type": "stream",
     "text": [
      "time per data point: 0.23939393939393938\n",
      "time: 1.49 ms (started: 2021-02-27 20:43:11 -05:00)\n"
     ]
    }
   ],
   "source": [
    "Nt,Dt = np.shape(X_test)\n",
    "\n",
    "print('time per data point:',79000/Nt)"
   ]
  },
  {
   "cell_type": "code",
   "execution_count": 57,
   "id": "individual-farmer",
   "metadata": {},
   "outputs": [
    {
     "name": "stdout",
     "output_type": "stream",
     "text": [
      "calculating loss\n",
      "train loss = 0.09541669687693644\n",
      "time: 2min 35s (started: 2021-02-27 20:43:24 -05:00)\n"
     ]
    }
   ],
   "source": [
    "dim = config_tiny[\"dim\"]\n",
    "loss = testl(NNl,In,out)\n",
    "print('train loss =', loss)"
   ]
  },
  {
   "cell_type": "code",
   "execution_count": 58,
   "id": "excess-motor",
   "metadata": {},
   "outputs": [
    {
     "name": "stdout",
     "output_type": "stream",
     "text": [
      "time per data point: 0.23134328358208955\n",
      "time: 6.84 ms (started: 2021-02-27 20:46:46 -05:00)\n"
     ]
    }
   ],
   "source": [
    "Nt,Dt = np.shape(In)\n",
    "\n",
    "print('time per data point:',155000/Nt)"
   ]
  },
  {
   "cell_type": "code",
   "execution_count": null,
   "id": "meaning-clark",
   "metadata": {},
   "outputs": [],
   "source": []
  }
 ],
 "metadata": {
  "kernelspec": {
   "display_name": "Python 3",
   "language": "python",
   "name": "python3"
  },
  "language_info": {
   "codemirror_mode": {
    "name": "ipython",
    "version": 3
   },
   "file_extension": ".py",
   "mimetype": "text/x-python",
   "name": "python",
   "nbconvert_exporter": "python",
   "pygments_lexer": "ipython3",
   "version": "3.6.9"
  }
 },
 "nbformat": 4,
 "nbformat_minor": 5
}
